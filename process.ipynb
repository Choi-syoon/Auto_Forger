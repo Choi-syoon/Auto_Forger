{
 "cells": [
  {
   "cell_type": "code",
   "execution_count": 83,
   "metadata": {},
   "outputs": [],
   "source": [
    "import os\n",
    "import re\n",
    "import json\n",
    "import numpy as np\n",
    "import tensorflow as tf\n",
    "\n",
    "from tqdm import tqdm\n",
    "from sklearn.preprocessing import LabelEncoder\n",
    "from tensorflow.python.keras import Model, Input\n",
    "from tensorflow.python.keras.preprocessing.sequence import pad_sequences\n",
    "from tensorflow.python.keras.layers import Dense, Embedding, GlobalAveragePooling1D\n",
    "from tensorflow.python.keras.preprocessing.text import tokenizer_from_json, Tokenizer"
   ]
  },
  {
   "cell_type": "code",
   "execution_count": 87,
   "metadata": {},
   "outputs": [],
   "source": [
    "class dataset:\n",
    "    def __init__(self) -> None:\n",
    "        pass\n",
    "\n",
    "    # 데이터셋 정보 json 탐색 함수\n",
    "    def search_json(self, dir):\n",
    "        paths = []\n",
    "        count = 0\n",
    "        for data in os.listdir(dir):\n",
    "            file_path = os.path.join(dir, data)\n",
    "            if os.path.isdir(file_path):\n",
    "                count += self.search_json(file_path)\n",
    "            elif data.endswith('.json'):\n",
    "                count += 1\n",
    "                paths.append(file_path)\n",
    "        print(paths)\n",
    "        return count\n",
    "    \n",
    "    # 데이터셋 발화자 id 확인 함수\n",
    "    def id_checker(self, json_path):\n",
    "        id_sector = []\n",
    "        with open(json_path, encoding='utf-8-sig') as file:\n",
    "            json_data = json.load(file) # load json\n",
    "            for i in range(0, 2):   # id search loop\n",
    "                id = json_data['dataSet']['dialogs'][i]['speaker']  # id 0,1 indexing\n",
    "                category = json_data['dataSet']['typeInfo']['category'] # category indexing\n",
    "                if id and category is not None:\n",
    "                    id_sector.append(id)\n",
    "            v1, v2 = id_sector[0], id_sector[1]\n",
    "        print(f\"Server : {v1}\\nClient : {v2}\")\n",
    "        print(f\"Category : {category}\")\n",
    "        return v1, v2, category\n",
    "\n",
    "    # def text_preprocesor():\n",
    "    \n",
    "    # def integer_indexer():///\n",
    "    "
   ]
  }
 ],
 "metadata": {
  "kernelspec": {
   "display_name": "venv1",
   "language": "python",
   "name": "python3"
  },
  "language_info": {
   "codemirror_mode": {
    "name": "ipython",
    "version": 3
   },
   "file_extension": ".py",
   "mimetype": "text/x-python",
   "name": "python",
   "nbconvert_exporter": "python",
   "pygments_lexer": "ipython3",
   "version": "3.8.0"
  }
 },
 "nbformat": 4,
 "nbformat_minor": 2
}
